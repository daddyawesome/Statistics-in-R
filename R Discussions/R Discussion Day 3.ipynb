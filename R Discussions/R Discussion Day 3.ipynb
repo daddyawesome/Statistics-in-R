{
  "metadata": {
    "language_info": {
      "name": "R",
      "codemirror_mode": "r",
      "pygments_lexer": "r",
      "mimetype": "text/x-r-source",
      "file_extension": ".r",
      "version": "3.6.3"
    },
    "kernelspec": {
      "name": "ir",
      "display_name": "R",
      "language": "R"
    }
  },
  "nbformat_minor": 5,
  "nbformat": 4,
  "cells": [
    {
      "cell_type": "markdown",
      "source": "# R Discussion Day 3\n## Data Visualisation or DataViz",
      "metadata": {},
      "id": "403106a9-578c-4ff5-97c7-5725a917c332"
    },
    {
      "cell_type": "markdown",
      "source": "- Usually the first step of a data analysis is graphical data exploration\n- Graphical exploration complements descriptive statistics\n- The most important aim is to get an overview of the dataset\n    - Where is data centered?\n    - How is the data spread (symmetric, skewed…)?\n    - Any outliers?\n    - Are the variables normally distributed?\n    - How are the relationships between variables:\n        - Between dependent and independents\n        - Between independents  \n        \n        ### Gallery of Graphs \n        \n      ![Graphs](https://snipboard.io/0fpz1M.jpg)\n      ![Graphs 2](https://snipboard.io/WtCSEa.jpg)",
      "metadata": {},
      "id": "db007c4b-fd29-41d5-8bc0-27824984bc61"
    },
    {
      "cell_type": "code",
      "source": "# Start with installing this package and delare the library to use\ninstall.packages(\"tidyverse\")\nlibrary(tidyverse)",
      "metadata": {
        "trusted": true
      },
      "execution_count": null,
      "outputs": [],
      "id": "db0a4f0c-cbc2-4c8f-93ef-e00b5fe6aada"
    },
    {
      "cell_type": "code",
      "source": "# Load the gapminder package\nlibrary(gapminder)\n\n# Load the dplyr package\nlibrary(dplyr)\n\n# Look at the gapminder dataset\ngapminder",
      "metadata": {},
      "execution_count": null,
      "outputs": [],
      "id": "083a964c-baa6-41e0-8e46-64a9df1d4d3c"
    },
    {
      "cell_type": "markdown",
      "source": "# Filter Verb\nThe `filter` verb extracts particular observations based on a condition. In this exercise you'll filter for observations from a particular year.\n\n### Exercise\n- Add a `filter()` line after the pipe (`%>%`) to extract only the observations from the year 1957. Remember that you use `==` to compare two values.",
      "metadata": {},
      "id": "22d34f31-b81d-4abf-8e78-40227f8de6af"
    },
    {
      "cell_type": "code",
      "source": "# Filter the gapminder dataset for the year 1957\ngapminder %>%\n    filter(year==1957)",
      "metadata": {},
      "execution_count": null,
      "outputs": [],
      "id": "a3c30c15-70fc-42ae-8886-63cbce0fd586"
    },
    {
      "cell_type": "markdown",
      "source": "# Filtering for one country and one year\n\nYou can also use the `filter()` verb to set two conditions, which could retrieve a single observation.\n\nJust like in the last exercise, you can do this in two lines of code, starting with `gapminder %>%` and having the `filter()` on the second line. Keeping one verb on each line helps keep the code readable. Note that each time, you'll put the pipe `%>%` at the end of the first line (like `gapminder %>%`); putting the pipe at the beginning of the second line will throw an error.\n\n### Exercise\n- Filter the `gapminder` data to retrieve only the observation from China in the year 2002.",
      "metadata": {},
      "id": "70c52f35-e5f9-4d18-8b43-47d902903ed6"
    },
    {
      "cell_type": "code",
      "source": "# Filter for China in 2002\ngapminder %>%\n    filter(year==2002,country==\"China\")",
      "metadata": {},
      "execution_count": null,
      "outputs": [],
      "id": "39f1fbcc-8d35-405f-a257-3a2f1675c7b7"
    },
    {
      "cell_type": "markdown",
      "source": "# Arranging observations by life expectancy\n\nYou use `arrange()` to sort observations in ascending or descending order of a particular variable. In this case, you'll sort the dataset based on the `lifeExp` variable.\n\n### Exercise\n-   Sort the `gapminder` dataset in ascending order of life expectancy (`lifeExp`).\n-   Sort the `gapminder` dataset in descending order of life expectancy.",
      "metadata": {},
      "id": "410846cb-5c67-448f-bdaf-a2c6bc205d6e"
    },
    {
      "cell_type": "code",
      "source": "# Sort in ascending order of lifeExp\ngapminder %>%\n    arrange(lifeExp)\n  \n# Sort in descending order of lifeExp\ngapminder %>%\n    arrange(desc(lifeExp))",
      "metadata": {},
      "execution_count": null,
      "outputs": [],
      "id": "9cc874fc-3005-4d6f-9c40-a0c5981cb959"
    },
    {
      "cell_type": "markdown",
      "source": "# Filtering and arranging\n\nYou'll often need to use the pipe operator (`%>%`) to combine multiple dplyr verbs in a row. In this case, you'll combine a `filter()` with an `arrange()` to find the highest population countries in a particular year.\n\n### Exercise\n-   Use `filter()` to extract observations from just the year 1957, then use `arrange()` to sort in descending order of population (`pop`).",
      "metadata": {},
      "id": "cc2a3ba2-ddb3-4fd6-9931-5f8d601e3567"
    },
    {
      "cell_type": "code",
      "source": "# Filter for the year 1957, then arrange in descending order of population\ngapminder %>%\n    filter(year==1957) %>%\n    arrange(desc(pop))",
      "metadata": {},
      "execution_count": null,
      "outputs": [],
      "id": "aa856fe6-8de7-4d92-aecc-ba775f43aae3"
    },
    {
      "cell_type": "code",
      "source": "",
      "metadata": {},
      "execution_count": null,
      "outputs": [],
      "id": "469e7d2f-17c3-4626-99f0-e2cb8a396d36"
    },
    {
      "cell_type": "code",
      "source": "",
      "metadata": {},
      "execution_count": null,
      "outputs": [],
      "id": "18153649-00c4-4e50-bf45-b9b3bc9a1adf"
    },
    {
      "cell_type": "code",
      "source": "",
      "metadata": {},
      "execution_count": null,
      "outputs": [],
      "id": "cb49a0ca-c4a3-4bd8-a970-9f56c8f483a7"
    },
    {
      "cell_type": "code",
      "source": "",
      "metadata": {},
      "execution_count": null,
      "outputs": [],
      "id": "dabcceb7-09d5-429b-8113-2c48e46418d0"
    },
    {
      "cell_type": "code",
      "source": "",
      "metadata": {},
      "execution_count": null,
      "outputs": [],
      "id": "a9bf7f30-65d7-4463-9cc4-1ee82224a1df"
    },
    {
      "cell_type": "code",
      "source": "",
      "metadata": {},
      "execution_count": null,
      "outputs": [],
      "id": "a7498613-8dc2-4ac0-84cd-f1a72e8c87f1"
    },
    {
      "cell_type": "code",
      "source": "",
      "metadata": {},
      "execution_count": null,
      "outputs": [],
      "id": "5a17d92d-876b-4181-9604-e0dd63ebb052"
    },
    {
      "cell_type": "code",
      "source": "",
      "metadata": {},
      "execution_count": null,
      "outputs": [],
      "id": "5b81d6d5-819f-49ce-bfb9-868b59e87be9"
    },
    {
      "cell_type": "code",
      "source": "",
      "metadata": {},
      "execution_count": null,
      "outputs": [],
      "id": "50319267-ebbf-48a1-9f9b-e1a96a031c8f"
    },
    {
      "cell_type": "code",
      "source": "mpg",
      "metadata": {
        "trusted": true
      },
      "execution_count": null,
      "outputs": [],
      "id": "df7bff13-4778-4c33-b9b9-120177cb631b"
    },
    {
      "cell_type": "code",
      "source": "hist(mpg$cty)",
      "metadata": {
        "trusted": true
      },
      "execution_count": null,
      "outputs": [],
      "id": "01c077bc-a894-4617-9a7c-60d66244e562"
    },
    {
      "cell_type": "code",
      "source": "hist(mpg$cty,\n     xlab   = \"Miles Per Gallon (City)\",\n     main   = \"Histogram of MPG (City)\",\n     breaks = 12,\n     col    = \"dodgerblue\",\n     border = \"darkorange\")",
      "metadata": {
        "trusted": true
      },
      "execution_count": null,
      "outputs": [],
      "id": "5d88dd8c-1b72-4abb-9280-9c684f14cafe"
    },
    {
      "cell_type": "code",
      "source": "",
      "metadata": {},
      "execution_count": null,
      "outputs": [],
      "id": "47ec3795-196e-4c30-ad89-1329170dd6a8"
    },
    {
      "cell_type": "code",
      "source": "",
      "metadata": {},
      "execution_count": null,
      "outputs": [],
      "id": "cee16d3b-00c7-428e-8f31-cda22f34cb08"
    },
    {
      "cell_type": "code",
      "source": "",
      "metadata": {},
      "execution_count": null,
      "outputs": [],
      "id": "66a39dd9-3554-4b38-8ba0-a7a5c9b20c58"
    },
    {
      "cell_type": "code",
      "source": "",
      "metadata": {},
      "execution_count": null,
      "outputs": [],
      "id": "b9440fc2-5bcb-4880-8534-4a528e841259"
    },
    {
      "cell_type": "code",
      "source": "",
      "metadata": {},
      "execution_count": null,
      "outputs": [],
      "id": "d4f94f1d-2ff2-4850-bdeb-acb5d9f819f3"
    },
    {
      "cell_type": "code",
      "source": "",
      "metadata": {},
      "execution_count": null,
      "outputs": [],
      "id": "f5b7788d-498a-4a33-b05a-a0692a44b2c4"
    },
    {
      "cell_type": "code",
      "source": "",
      "metadata": {},
      "execution_count": null,
      "outputs": [],
      "id": "1fc5e8e3-1b5f-4f7e-aa52-51f399ef7af9"
    },
    {
      "cell_type": "markdown",
      "source": "## How to DataViz 101\n\n![Single Value](https://snipboard.io/W9YAS7.jpg)\n![Relationships](https://snipboard.io/NB6IYc.jpg)\n![Distrbution](https://snipboard.io/fM7SPt.jpg)\n![Trend](https://snipboard.io/Iu17x4.jpg)\n![Part to whole](https://snipboard.io/IVLjS4.jpg)\n![Flow](https://snipboard.io/ip4f92.jpg)",
      "metadata": {},
      "id": "906aee07-07f2-49f7-8881-b9d0f7d0dfef"
    },
    {
      "cell_type": "code",
      "source": "",
      "metadata": {},
      "execution_count": null,
      "outputs": [],
      "id": "62214063-2e5f-477e-9fe8-29564d803ee6"
    },
    {
      "cell_type": "code",
      "source": "",
      "metadata": {},
      "execution_count": null,
      "outputs": [],
      "id": "0838f81a-0eb4-4a7a-a36a-163d61f69c36"
    },
    {
      "cell_type": "code",
      "source": "",
      "metadata": {},
      "execution_count": null,
      "outputs": [],
      "id": "4ce5de16-7170-46f5-b1ca-c73c8cadd330"
    },
    {
      "cell_type": "markdown",
      "source": "Refrences:\nhttps://book.stat420.org/summarizing-data.html\n\nhttps://www.r-exercises.com/start-here-to-learn-r/\n\nhttps://arc.lib.montana.edu/book/statistics-with-r-textbook/table-of-contents.html\nhttps://crumplab.com/rstatsforpsych/descriptives.html\n\n\n\nhttps://r4ds.had.co.nz/data-visualisation.html\nhttps://jrnold.github.io/r4ds-exercise-solutions/data-visualisation.html#geometric-objects\n\n\nfor something\nhttps://snipboard.io/\nhttps://stackedit.io/\nhttps://jakevdp.github.io/PythonDataScienceHandbook/",
      "metadata": {},
      "id": "b8301275-b3f5-49bf-8e18-f17451c7c3fa"
    }
  ]
}