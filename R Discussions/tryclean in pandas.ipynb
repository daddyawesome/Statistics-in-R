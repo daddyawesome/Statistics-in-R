{
  "metadata": {
    "language_info": {
      "codemirror_mode": {
        "name": "python",
        "version": 3
      },
      "file_extension": ".py",
      "mimetype": "text/x-python",
      "name": "python",
      "nbconvert_exporter": "python",
      "pygments_lexer": "ipython3",
      "version": "3.8"
    },
    "kernelspec": {
      "name": "python",
      "display_name": "Python (Pyodide)",
      "language": "python"
    }
  },
  "nbformat_minor": 4,
  "nbformat": 4,
  "cells": [
    {
      "cell_type": "code",
      "source": "import pandas as pd\nimport numpy as np\nimport os   ",
      "metadata": {
        "trusted": true
      },
      "execution_count": 1,
      "outputs": []
    },
    {
      "cell_type": "code",
      "source": "os.getcwd()\ndir_list = os.listdir(\"/home/pyodide\")\n",
      "metadata": {
        "trusted": true
      },
      "execution_count": 2,
      "outputs": [
        {
          "name": "stdout",
          "text": "['.matplotlib', '.ipython']\n",
          "output_type": "stream"
        }
      ]
    },
    {
      "cell_type": "code",
      "source": "print(dir_list)",
      "metadata": {
        "trusted": true
      },
      "execution_count": 13,
      "outputs": [
        {
          "name": "stdout",
          "text": "['tmp', 'home', 'dev', 'proc', 'lib', 'drive']\n",
          "output_type": "stream"
        }
      ]
    },
    {
      "cell_type": "code",
      "source": "os.chdir('/')",
      "metadata": {
        "trusted": true
      },
      "execution_count": 4,
      "outputs": []
    },
    {
      "cell_type": "code",
      "source": "os.getcwd()",
      "metadata": {
        "trusted": true
      },
      "execution_count": 5,
      "outputs": [
        {
          "execution_count": 5,
          "output_type": "execute_result",
          "data": {
            "text/plain": "'/'"
          },
          "metadata": {}
        }
      ]
    },
    {
      "cell_type": "code",
      "source": "dir_list = os.listdir(\"/drive\")\nprint(dir_list)",
      "metadata": {
        "trusted": true
      },
      "execution_count": 15,
      "outputs": [
        {
          "name": "stdout",
          "text": "['Untitled.ipynb', 'notebooks', 'data', 'README.md']\n",
          "output_type": "stream"
        }
      ]
    },
    {
      "cell_type": "code",
      "source": "df = pd.read_csv(\"/drive/data/data1.csv\")\ndf",
      "metadata": {
        "trusted": true
      },
      "execution_count": 16,
      "outputs": [
        {
          "execution_count": 16,
          "output_type": "execute_result",
          "data": {
            "text/plain": "          Date                      Country           City   Region  \\\n0       1/1/13                Cote d'Ivoire        Abidjan  Western   \n1       1/1/13                   Madagascar   Antananarivo  Eastern   \n2       1/1/13                       Rwanda         Kigali  Eastern   \n3       1/1/13                     Zimbabwe         Harare  Eastern   \n4       1/2/13                     Ethiopia    Addis Ababa  Eastern   \n...        ...                          ...            ...      ...   \n1051  12/20/16                     Zimbabwe         Harare  Eastern   \n1052  12/21/16                       Malawi       Blantyre  Eastern   \n1053  12/22/16                      Liberia       Monrovia  Western   \n1054  12/28/16                        Kenya        Nairobi  Eastern   \n1055  12/28/16  United Republic of Tanzania  Dar es Salaam  Eastern   \n\n          Segment      Sales     Profit  \n0      Commercial   $656.96      $6.57   \n1          Public   $875.94    $-70.08   \n2          Public   $258.35     $18.08   \n3     Residential   $875.62    $-35.02   \n4     Residential   $509.93     $10.20   \n...           ...        ...        ...  \n1051  Residential   $394.28    $-23.66   \n1052  Residential   $333.07    $-16.65   \n1053  Residential   $133.26     $-8.00   \n1054       Public   $737.57     $36.88   \n1055  Residential   $859.82    $-60.19   \n\n[1056 rows x 7 columns]",
            "text/html": "<div>\n<style scoped>\n    .dataframe tbody tr th:only-of-type {\n        vertical-align: middle;\n    }\n\n    .dataframe tbody tr th {\n        vertical-align: top;\n    }\n\n    .dataframe thead th {\n        text-align: right;\n    }\n</style>\n<table border=\"1\" class=\"dataframe\">\n  <thead>\n    <tr style=\"text-align: right;\">\n      <th></th>\n      <th>Date</th>\n      <th>Country</th>\n      <th>City</th>\n      <th>Region</th>\n      <th>Segment</th>\n      <th>Sales</th>\n      <th>Profit</th>\n    </tr>\n  </thead>\n  <tbody>\n    <tr>\n      <th>0</th>\n      <td>1/1/13</td>\n      <td>Cote d'Ivoire</td>\n      <td>Abidjan</td>\n      <td>Western</td>\n      <td>Commercial</td>\n      <td>$656.96</td>\n      <td>$6.57</td>\n    </tr>\n    <tr>\n      <th>1</th>\n      <td>1/1/13</td>\n      <td>Madagascar</td>\n      <td>Antananarivo</td>\n      <td>Eastern</td>\n      <td>Public</td>\n      <td>$875.94</td>\n      <td>$-70.08</td>\n    </tr>\n    <tr>\n      <th>2</th>\n      <td>1/1/13</td>\n      <td>Rwanda</td>\n      <td>Kigali</td>\n      <td>Eastern</td>\n      <td>Public</td>\n      <td>$258.35</td>\n      <td>$18.08</td>\n    </tr>\n    <tr>\n      <th>3</th>\n      <td>1/1/13</td>\n      <td>Zimbabwe</td>\n      <td>Harare</td>\n      <td>Eastern</td>\n      <td>Residential</td>\n      <td>$875.62</td>\n      <td>$-35.02</td>\n    </tr>\n    <tr>\n      <th>4</th>\n      <td>1/2/13</td>\n      <td>Ethiopia</td>\n      <td>Addis Ababa</td>\n      <td>Eastern</td>\n      <td>Residential</td>\n      <td>$509.93</td>\n      <td>$10.20</td>\n    </tr>\n    <tr>\n      <th>...</th>\n      <td>...</td>\n      <td>...</td>\n      <td>...</td>\n      <td>...</td>\n      <td>...</td>\n      <td>...</td>\n      <td>...</td>\n    </tr>\n    <tr>\n      <th>1051</th>\n      <td>12/20/16</td>\n      <td>Zimbabwe</td>\n      <td>Harare</td>\n      <td>Eastern</td>\n      <td>Residential</td>\n      <td>$394.28</td>\n      <td>$-23.66</td>\n    </tr>\n    <tr>\n      <th>1052</th>\n      <td>12/21/16</td>\n      <td>Malawi</td>\n      <td>Blantyre</td>\n      <td>Eastern</td>\n      <td>Residential</td>\n      <td>$333.07</td>\n      <td>$-16.65</td>\n    </tr>\n    <tr>\n      <th>1053</th>\n      <td>12/22/16</td>\n      <td>Liberia</td>\n      <td>Monrovia</td>\n      <td>Western</td>\n      <td>Residential</td>\n      <td>$133.26</td>\n      <td>$-8.00</td>\n    </tr>\n    <tr>\n      <th>1054</th>\n      <td>12/28/16</td>\n      <td>Kenya</td>\n      <td>Nairobi</td>\n      <td>Eastern</td>\n      <td>Public</td>\n      <td>$737.57</td>\n      <td>$36.88</td>\n    </tr>\n    <tr>\n      <th>1055</th>\n      <td>12/28/16</td>\n      <td>United Republic of Tanzania</td>\n      <td>Dar es Salaam</td>\n      <td>Eastern</td>\n      <td>Residential</td>\n      <td>$859.82</td>\n      <td>$-60.19</td>\n    </tr>\n  </tbody>\n</table>\n<p>1056 rows × 7 columns</p>\n</div>"
          },
          "metadata": {}
        }
      ]
    },
    {
      "cell_type": "code",
      "source": "df1 = pd.read_csv(\"/drive/data2.csv\")\ndf1",
      "metadata": {
        "trusted": true
      },
      "execution_count": 19,
      "outputs": [
        {
          "execution_count": 19,
          "output_type": "execute_result",
          "data": {
            "text/plain": "        Date        Salesperson  Contracts Sold Close Rate\n0     1/1/13       Aiden Morris              13        55%\n1     1/1/13       Audrey Baker              11        30%\n2     1/1/13  Constantine Eager               9        36%\n3     1/1/13  Francis Martineau              11        22%\n4     1/1/13    George O'Malley              14        33%\n..       ...                ...             ...        ...\n155  10/1/16       Ken Railings               8        35%\n156  10/1/16       Laura Yeager               1        13%\n157  10/1/16     Marianne James               6        48%\n158  10/1/16      Michael Smith               4        15%\n159  10/1/16   Priscilla Taylor              16        51%\n\n[160 rows x 4 columns]",
            "text/html": "<div>\n<style scoped>\n    .dataframe tbody tr th:only-of-type {\n        vertical-align: middle;\n    }\n\n    .dataframe tbody tr th {\n        vertical-align: top;\n    }\n\n    .dataframe thead th {\n        text-align: right;\n    }\n</style>\n<table border=\"1\" class=\"dataframe\">\n  <thead>\n    <tr style=\"text-align: right;\">\n      <th></th>\n      <th>Date</th>\n      <th>Salesperson</th>\n      <th>Contracts Sold</th>\n      <th>Close Rate</th>\n    </tr>\n  </thead>\n  <tbody>\n    <tr>\n      <th>0</th>\n      <td>1/1/13</td>\n      <td>Aiden Morris</td>\n      <td>13</td>\n      <td>55%</td>\n    </tr>\n    <tr>\n      <th>1</th>\n      <td>1/1/13</td>\n      <td>Audrey Baker</td>\n      <td>11</td>\n      <td>30%</td>\n    </tr>\n    <tr>\n      <th>2</th>\n      <td>1/1/13</td>\n      <td>Constantine Eager</td>\n      <td>9</td>\n      <td>36%</td>\n    </tr>\n    <tr>\n      <th>3</th>\n      <td>1/1/13</td>\n      <td>Francis Martineau</td>\n      <td>11</td>\n      <td>22%</td>\n    </tr>\n    <tr>\n      <th>4</th>\n      <td>1/1/13</td>\n      <td>George O'Malley</td>\n      <td>14</td>\n      <td>33%</td>\n    </tr>\n    <tr>\n      <th>...</th>\n      <td>...</td>\n      <td>...</td>\n      <td>...</td>\n      <td>...</td>\n    </tr>\n    <tr>\n      <th>155</th>\n      <td>10/1/16</td>\n      <td>Ken Railings</td>\n      <td>8</td>\n      <td>35%</td>\n    </tr>\n    <tr>\n      <th>156</th>\n      <td>10/1/16</td>\n      <td>Laura Yeager</td>\n      <td>1</td>\n      <td>13%</td>\n    </tr>\n    <tr>\n      <th>157</th>\n      <td>10/1/16</td>\n      <td>Marianne James</td>\n      <td>6</td>\n      <td>48%</td>\n    </tr>\n    <tr>\n      <th>158</th>\n      <td>10/1/16</td>\n      <td>Michael Smith</td>\n      <td>4</td>\n      <td>15%</td>\n    </tr>\n    <tr>\n      <th>159</th>\n      <td>10/1/16</td>\n      <td>Priscilla Taylor</td>\n      <td>16</td>\n      <td>51%</td>\n    </tr>\n  </tbody>\n</table>\n<p>160 rows × 4 columns</p>\n</div>"
          },
          "metadata": {}
        }
      ]
    },
    {
      "cell_type": "code",
      "source": "df['Sales'] = df['Sales'].str.replace('$', '')\ndf['Profit'] = df['Profit'].str.replace('$', '')\n",
      "metadata": {
        "trusted": true
      },
      "execution_count": null,
      "outputs": []
    },
    {
      "cell_type": "code",
      "source": "df['Profit'] = df['Profit'].str.replace('-', '0')\ndf['Sales'] = pd.to_numeric(df['Sales'])\ndf['Profit'] = pd.to_numeric(df['Profit'])\ndf.dtypes",
      "metadata": {
        "trusted": true
      },
      "execution_count": 29,
      "outputs": [
        {
          "execution_count": 29,
          "output_type": "execute_result",
          "data": {
            "text/plain": "Date        object\nCountry     object\nCity        object\nRegion      object\nSegment     object\nSales      float64\nProfit     float64\ndtype: object"
          },
          "metadata": {}
        }
      ]
    },
    {
      "cell_type": "code",
      "source": "df.dtypes",
      "metadata": {
        "trusted": true
      },
      "execution_count": 28,
      "outputs": [
        {
          "execution_count": 28,
          "output_type": "execute_result",
          "data": {
            "text/plain": "Date        object\nCountry     object\nCity        object\nRegion      object\nSegment     object\nSales      float64\nProfit      object\ndtype: object"
          },
          "metadata": {}
        }
      ]
    },
    {
      "cell_type": "code",
      "source": "df",
      "metadata": {
        "trusted": true
      },
      "execution_count": 25,
      "outputs": [
        {
          "execution_count": 25,
          "output_type": "execute_result",
          "data": {
            "text/plain": "          Date                      Country           City   Region  \\\n0       1/1/13                Cote d'Ivoire        Abidjan  Western   \n1       1/1/13                   Madagascar   Antananarivo  Eastern   \n2       1/1/13                       Rwanda         Kigali  Eastern   \n3       1/1/13                     Zimbabwe         Harare  Eastern   \n4       1/2/13                     Ethiopia    Addis Ababa  Eastern   \n...        ...                          ...            ...      ...   \n1051  12/20/16                     Zimbabwe         Harare  Eastern   \n1052  12/21/16                       Malawi       Blantyre  Eastern   \n1053  12/22/16                      Liberia       Monrovia  Western   \n1054  12/28/16                        Kenya        Nairobi  Eastern   \n1055  12/28/16  United Republic of Tanzania  Dar es Salaam  Eastern   \n\n          Segment   Sales    Profit  \n0      Commercial  656.96     6.57   \n1          Public  875.94   -70.08   \n2          Public  258.35    18.08   \n3     Residential  875.62   -35.02   \n4     Residential  509.93    10.20   \n...           ...     ...       ...  \n1051  Residential  394.28   -23.66   \n1052  Residential  333.07   -16.65   \n1053  Residential  133.26    -8.00   \n1054       Public  737.57    36.88   \n1055  Residential  859.82   -60.19   \n\n[1056 rows x 7 columns]",
            "text/html": "<div>\n<style scoped>\n    .dataframe tbody tr th:only-of-type {\n        vertical-align: middle;\n    }\n\n    .dataframe tbody tr th {\n        vertical-align: top;\n    }\n\n    .dataframe thead th {\n        text-align: right;\n    }\n</style>\n<table border=\"1\" class=\"dataframe\">\n  <thead>\n    <tr style=\"text-align: right;\">\n      <th></th>\n      <th>Date</th>\n      <th>Country</th>\n      <th>City</th>\n      <th>Region</th>\n      <th>Segment</th>\n      <th>Sales</th>\n      <th>Profit</th>\n    </tr>\n  </thead>\n  <tbody>\n    <tr>\n      <th>0</th>\n      <td>1/1/13</td>\n      <td>Cote d'Ivoire</td>\n      <td>Abidjan</td>\n      <td>Western</td>\n      <td>Commercial</td>\n      <td>656.96</td>\n      <td>6.57</td>\n    </tr>\n    <tr>\n      <th>1</th>\n      <td>1/1/13</td>\n      <td>Madagascar</td>\n      <td>Antananarivo</td>\n      <td>Eastern</td>\n      <td>Public</td>\n      <td>875.94</td>\n      <td>-70.08</td>\n    </tr>\n    <tr>\n      <th>2</th>\n      <td>1/1/13</td>\n      <td>Rwanda</td>\n      <td>Kigali</td>\n      <td>Eastern</td>\n      <td>Public</td>\n      <td>258.35</td>\n      <td>18.08</td>\n    </tr>\n    <tr>\n      <th>3</th>\n      <td>1/1/13</td>\n      <td>Zimbabwe</td>\n      <td>Harare</td>\n      <td>Eastern</td>\n      <td>Residential</td>\n      <td>875.62</td>\n      <td>-35.02</td>\n    </tr>\n    <tr>\n      <th>4</th>\n      <td>1/2/13</td>\n      <td>Ethiopia</td>\n      <td>Addis Ababa</td>\n      <td>Eastern</td>\n      <td>Residential</td>\n      <td>509.93</td>\n      <td>10.20</td>\n    </tr>\n    <tr>\n      <th>...</th>\n      <td>...</td>\n      <td>...</td>\n      <td>...</td>\n      <td>...</td>\n      <td>...</td>\n      <td>...</td>\n      <td>...</td>\n    </tr>\n    <tr>\n      <th>1051</th>\n      <td>12/20/16</td>\n      <td>Zimbabwe</td>\n      <td>Harare</td>\n      <td>Eastern</td>\n      <td>Residential</td>\n      <td>394.28</td>\n      <td>-23.66</td>\n    </tr>\n    <tr>\n      <th>1052</th>\n      <td>12/21/16</td>\n      <td>Malawi</td>\n      <td>Blantyre</td>\n      <td>Eastern</td>\n      <td>Residential</td>\n      <td>333.07</td>\n      <td>-16.65</td>\n    </tr>\n    <tr>\n      <th>1053</th>\n      <td>12/22/16</td>\n      <td>Liberia</td>\n      <td>Monrovia</td>\n      <td>Western</td>\n      <td>Residential</td>\n      <td>133.26</td>\n      <td>-8.00</td>\n    </tr>\n    <tr>\n      <th>1054</th>\n      <td>12/28/16</td>\n      <td>Kenya</td>\n      <td>Nairobi</td>\n      <td>Eastern</td>\n      <td>Public</td>\n      <td>737.57</td>\n      <td>36.88</td>\n    </tr>\n    <tr>\n      <th>1055</th>\n      <td>12/28/16</td>\n      <td>United Republic of Tanzania</td>\n      <td>Dar es Salaam</td>\n      <td>Eastern</td>\n      <td>Residential</td>\n      <td>859.82</td>\n      <td>-60.19</td>\n    </tr>\n  </tbody>\n</table>\n<p>1056 rows × 7 columns</p>\n</div>"
          },
          "metadata": {}
        }
      ]
    },
    {
      "cell_type": "code",
      "source": "df[\"orig\"] = df[\"Sales\"] - df[\"Profit\"]\ndf",
      "metadata": {
        "trusted": true
      },
      "execution_count": 30,
      "outputs": [
        {
          "execution_count": 30,
          "output_type": "execute_result",
          "data": {
            "text/plain": "          Date                      Country           City   Region  \\\n0       1/1/13                Cote d'Ivoire        Abidjan  Western   \n1       1/1/13                   Madagascar   Antananarivo  Eastern   \n2       1/1/13                       Rwanda         Kigali  Eastern   \n3       1/1/13                     Zimbabwe         Harare  Eastern   \n4       1/2/13                     Ethiopia    Addis Ababa  Eastern   \n...        ...                          ...            ...      ...   \n1051  12/20/16                     Zimbabwe         Harare  Eastern   \n1052  12/21/16                       Malawi       Blantyre  Eastern   \n1053  12/22/16                      Liberia       Monrovia  Western   \n1054  12/28/16                        Kenya        Nairobi  Eastern   \n1055  12/28/16  United Republic of Tanzania  Dar es Salaam  Eastern   \n\n          Segment   Sales  Profit    orig  \n0      Commercial  656.96    6.57  650.39  \n1          Public  875.94   70.08  805.86  \n2          Public  258.35   18.08  240.27  \n3     Residential  875.62   35.02  840.60  \n4     Residential  509.93   10.20  499.73  \n...           ...     ...     ...     ...  \n1051  Residential  394.28   23.66  370.62  \n1052  Residential  333.07   16.65  316.42  \n1053  Residential  133.26    8.00  125.26  \n1054       Public  737.57   36.88  700.69  \n1055  Residential  859.82   60.19  799.63  \n\n[1056 rows x 8 columns]",
            "text/html": "<div>\n<style scoped>\n    .dataframe tbody tr th:only-of-type {\n        vertical-align: middle;\n    }\n\n    .dataframe tbody tr th {\n        vertical-align: top;\n    }\n\n    .dataframe thead th {\n        text-align: right;\n    }\n</style>\n<table border=\"1\" class=\"dataframe\">\n  <thead>\n    <tr style=\"text-align: right;\">\n      <th></th>\n      <th>Date</th>\n      <th>Country</th>\n      <th>City</th>\n      <th>Region</th>\n      <th>Segment</th>\n      <th>Sales</th>\n      <th>Profit</th>\n      <th>orig</th>\n    </tr>\n  </thead>\n  <tbody>\n    <tr>\n      <th>0</th>\n      <td>1/1/13</td>\n      <td>Cote d'Ivoire</td>\n      <td>Abidjan</td>\n      <td>Western</td>\n      <td>Commercial</td>\n      <td>656.96</td>\n      <td>6.57</td>\n      <td>650.39</td>\n    </tr>\n    <tr>\n      <th>1</th>\n      <td>1/1/13</td>\n      <td>Madagascar</td>\n      <td>Antananarivo</td>\n      <td>Eastern</td>\n      <td>Public</td>\n      <td>875.94</td>\n      <td>70.08</td>\n      <td>805.86</td>\n    </tr>\n    <tr>\n      <th>2</th>\n      <td>1/1/13</td>\n      <td>Rwanda</td>\n      <td>Kigali</td>\n      <td>Eastern</td>\n      <td>Public</td>\n      <td>258.35</td>\n      <td>18.08</td>\n      <td>240.27</td>\n    </tr>\n    <tr>\n      <th>3</th>\n      <td>1/1/13</td>\n      <td>Zimbabwe</td>\n      <td>Harare</td>\n      <td>Eastern</td>\n      <td>Residential</td>\n      <td>875.62</td>\n      <td>35.02</td>\n      <td>840.60</td>\n    </tr>\n    <tr>\n      <th>4</th>\n      <td>1/2/13</td>\n      <td>Ethiopia</td>\n      <td>Addis Ababa</td>\n      <td>Eastern</td>\n      <td>Residential</td>\n      <td>509.93</td>\n      <td>10.20</td>\n      <td>499.73</td>\n    </tr>\n    <tr>\n      <th>...</th>\n      <td>...</td>\n      <td>...</td>\n      <td>...</td>\n      <td>...</td>\n      <td>...</td>\n      <td>...</td>\n      <td>...</td>\n      <td>...</td>\n    </tr>\n    <tr>\n      <th>1051</th>\n      <td>12/20/16</td>\n      <td>Zimbabwe</td>\n      <td>Harare</td>\n      <td>Eastern</td>\n      <td>Residential</td>\n      <td>394.28</td>\n      <td>23.66</td>\n      <td>370.62</td>\n    </tr>\n    <tr>\n      <th>1052</th>\n      <td>12/21/16</td>\n      <td>Malawi</td>\n      <td>Blantyre</td>\n      <td>Eastern</td>\n      <td>Residential</td>\n      <td>333.07</td>\n      <td>16.65</td>\n      <td>316.42</td>\n    </tr>\n    <tr>\n      <th>1053</th>\n      <td>12/22/16</td>\n      <td>Liberia</td>\n      <td>Monrovia</td>\n      <td>Western</td>\n      <td>Residential</td>\n      <td>133.26</td>\n      <td>8.00</td>\n      <td>125.26</td>\n    </tr>\n    <tr>\n      <th>1054</th>\n      <td>12/28/16</td>\n      <td>Kenya</td>\n      <td>Nairobi</td>\n      <td>Eastern</td>\n      <td>Public</td>\n      <td>737.57</td>\n      <td>36.88</td>\n      <td>700.69</td>\n    </tr>\n    <tr>\n      <th>1055</th>\n      <td>12/28/16</td>\n      <td>United Republic of Tanzania</td>\n      <td>Dar es Salaam</td>\n      <td>Eastern</td>\n      <td>Residential</td>\n      <td>859.82</td>\n      <td>60.19</td>\n      <td>799.63</td>\n    </tr>\n  </tbody>\n</table>\n<p>1056 rows × 8 columns</p>\n</div>"
          },
          "metadata": {}
        }
      ]
    },
    {
      "cell_type": "code",
      "source": "import numpy as np\nimport pandas as pd\nimport json\nimport urllib.request",
      "metadata": {
        "trusted": true
      },
      "execution_count": 36,
      "outputs": []
    },
    {
      "cell_type": "code",
      "source": "df3 = pd.read_json(\"/drive/input_graph_tree.json\")\ndf3",
      "metadata": {
        "trusted": true
      },
      "execution_count": 40,
      "outputs": [
        {
          "execution_count": 40,
          "output_type": "execute_result",
          "data": {
            "text/plain": "   parent               name edge_name  \\\n0    null  NodeLvl0-0 (4312)      null   \n1    null  NodeLvl0-0 (4312)      null   \n2    null  NodeLvl0-0 (4312)      null   \n3    null  NodeLvl0-0 (4312)      null   \n4    null  NodeLvl0-0 (4312)      null   \n5    null  NodeLvl0-0 (4312)      null   \n6    null  NodeLvl0-0 (4312)      null   \n7    null  NodeLvl0-0 (4312)      null   \n8    null  NodeLvl0-0 (4312)      null   \n9    null  NodeLvl0-0 (4312)      null   \n10   null  NodeLvl0-0 (4312)      null   \n11   null  NodeLvl0-0 (4312)      null   \n12   null  NodeLvl0-0 (4312)      null   \n13   null  NodeLvl0-0 (4312)      null   \n\n                                             children  \n0   {'parent': 'NodeLvl0-0 (4312)', 'name': 'NodeL...  \n1   {'parent': 'NodeLvl0-0 (4312)', 'name': 'NodeL...  \n2   {'parent': 'NodeLvl0-0 (4312)', 'name': 'NodeL...  \n3   {'parent': 'NodeLvl0-0 (4312)', 'name': 'NodeL...  \n4   {'parent': 'NodeLvl0-0 (4312)', 'name': 'NodeL...  \n5   {'parent': 'NodeLvl0-0 (4312)', 'name': 'NodeL...  \n6   {'parent': 'NodeLvl0-0 (4312)', 'name': 'NodeL...  \n7   {'parent': 'NodeLvl0-0 (4312)', 'name': 'NodeL...  \n8   {'parent': 'NodeLvl0-0 (4312)', 'name': 'NodeL...  \n9   {'parent': 'NodeLvl0-0 (4312)', 'name': 'NodeL...  \n10  {'parent': 'NodeLvl0-0 (4312)', 'name': 'NodeL...  \n11  {'parent': 'NodeLvl0-0 (4312)', 'name': 'NodeL...  \n12  {'parent': 'NodeLvl0-0 (4312)', 'name': 'NodeL...  \n13  {'parent': 'NodeLvl0-0 (4312)', 'name': 'NodeL...  ",
            "text/html": "<div>\n<style scoped>\n    .dataframe tbody tr th:only-of-type {\n        vertical-align: middle;\n    }\n\n    .dataframe tbody tr th {\n        vertical-align: top;\n    }\n\n    .dataframe thead th {\n        text-align: right;\n    }\n</style>\n<table border=\"1\" class=\"dataframe\">\n  <thead>\n    <tr style=\"text-align: right;\">\n      <th></th>\n      <th>parent</th>\n      <th>name</th>\n      <th>edge_name</th>\n      <th>children</th>\n    </tr>\n  </thead>\n  <tbody>\n    <tr>\n      <th>0</th>\n      <td>null</td>\n      <td>NodeLvl0-0 (4312)</td>\n      <td>null</td>\n      <td>{'parent': 'NodeLvl0-0 (4312)', 'name': 'NodeL...</td>\n    </tr>\n    <tr>\n      <th>1</th>\n      <td>null</td>\n      <td>NodeLvl0-0 (4312)</td>\n      <td>null</td>\n      <td>{'parent': 'NodeLvl0-0 (4312)', 'name': 'NodeL...</td>\n    </tr>\n    <tr>\n      <th>2</th>\n      <td>null</td>\n      <td>NodeLvl0-0 (4312)</td>\n      <td>null</td>\n      <td>{'parent': 'NodeLvl0-0 (4312)', 'name': 'NodeL...</td>\n    </tr>\n    <tr>\n      <th>3</th>\n      <td>null</td>\n      <td>NodeLvl0-0 (4312)</td>\n      <td>null</td>\n      <td>{'parent': 'NodeLvl0-0 (4312)', 'name': 'NodeL...</td>\n    </tr>\n    <tr>\n      <th>4</th>\n      <td>null</td>\n      <td>NodeLvl0-0 (4312)</td>\n      <td>null</td>\n      <td>{'parent': 'NodeLvl0-0 (4312)', 'name': 'NodeL...</td>\n    </tr>\n    <tr>\n      <th>5</th>\n      <td>null</td>\n      <td>NodeLvl0-0 (4312)</td>\n      <td>null</td>\n      <td>{'parent': 'NodeLvl0-0 (4312)', 'name': 'NodeL...</td>\n    </tr>\n    <tr>\n      <th>6</th>\n      <td>null</td>\n      <td>NodeLvl0-0 (4312)</td>\n      <td>null</td>\n      <td>{'parent': 'NodeLvl0-0 (4312)', 'name': 'NodeL...</td>\n    </tr>\n    <tr>\n      <th>7</th>\n      <td>null</td>\n      <td>NodeLvl0-0 (4312)</td>\n      <td>null</td>\n      <td>{'parent': 'NodeLvl0-0 (4312)', 'name': 'NodeL...</td>\n    </tr>\n    <tr>\n      <th>8</th>\n      <td>null</td>\n      <td>NodeLvl0-0 (4312)</td>\n      <td>null</td>\n      <td>{'parent': 'NodeLvl0-0 (4312)', 'name': 'NodeL...</td>\n    </tr>\n    <tr>\n      <th>9</th>\n      <td>null</td>\n      <td>NodeLvl0-0 (4312)</td>\n      <td>null</td>\n      <td>{'parent': 'NodeLvl0-0 (4312)', 'name': 'NodeL...</td>\n    </tr>\n    <tr>\n      <th>10</th>\n      <td>null</td>\n      <td>NodeLvl0-0 (4312)</td>\n      <td>null</td>\n      <td>{'parent': 'NodeLvl0-0 (4312)', 'name': 'NodeL...</td>\n    </tr>\n    <tr>\n      <th>11</th>\n      <td>null</td>\n      <td>NodeLvl0-0 (4312)</td>\n      <td>null</td>\n      <td>{'parent': 'NodeLvl0-0 (4312)', 'name': 'NodeL...</td>\n    </tr>\n    <tr>\n      <th>12</th>\n      <td>null</td>\n      <td>NodeLvl0-0 (4312)</td>\n      <td>null</td>\n      <td>{'parent': 'NodeLvl0-0 (4312)', 'name': 'NodeL...</td>\n    </tr>\n    <tr>\n      <th>13</th>\n      <td>null</td>\n      <td>NodeLvl0-0 (4312)</td>\n      <td>null</td>\n      <td>{'parent': 'NodeLvl0-0 (4312)', 'name': 'NodeL...</td>\n    </tr>\n  </tbody>\n</table>\n</div>"
          },
          "metadata": {}
        }
      ]
    },
    {
      "cell_type": "code",
      "source": "url = \"https://raw.githubusercontent.com/aavail/ai-workflow-capstone/master/cs-train/invoices-2017-11.json\"\ndfj = pd.read_json(url)\ndfj.head()",
      "metadata": {
        "trusted": true
      },
      "execution_count": 39,
      "outputs": [
        {
          "ename": "<class 'urllib.error.URLError'>",
          "evalue": "<urlopen error unknown url type: https>",
          "traceback": [
            "\u001b[0;31m---------------------------------------------------------------------------\u001b[0m",
            "\u001b[0;31mURLError\u001b[0m                                  Traceback (most recent call last)",
            "Cell \u001b[0;32mIn [39], line 2\u001b[0m\n\u001b[1;32m      1\u001b[0m url \u001b[38;5;241m=\u001b[39m \u001b[38;5;124m\"\u001b[39m\u001b[38;5;124mhttps://raw.githubusercontent.com/aavail/ai-workflow-capstone/master/cs-train/invoices-2017-11.json\u001b[39m\u001b[38;5;124m\"\u001b[39m\n\u001b[0;32m----> 2\u001b[0m dfj \u001b[38;5;241m=\u001b[39m \u001b[43mpd\u001b[49m\u001b[38;5;241;43m.\u001b[39;49m\u001b[43mread_json\u001b[49m\u001b[43m(\u001b[49m\u001b[43murl\u001b[49m\u001b[43m)\u001b[49m\n\u001b[1;32m      3\u001b[0m dfj\u001b[38;5;241m.\u001b[39mhead()\n",
            "File \u001b[0;32m/lib/python3.10/site-packages/pandas/util/_decorators.py:207\u001b[0m, in \u001b[0;36mdeprecate_kwarg.<locals>._deprecate_kwarg.<locals>.wrapper\u001b[0;34m(*args, **kwargs)\u001b[0m\n\u001b[1;32m    205\u001b[0m     \u001b[38;5;28;01melse\u001b[39;00m:\n\u001b[1;32m    206\u001b[0m         kwargs[new_arg_name] \u001b[38;5;241m=\u001b[39m new_arg_value\n\u001b[0;32m--> 207\u001b[0m \u001b[38;5;28;01mreturn\u001b[39;00m func(\u001b[38;5;241m*\u001b[39margs, \u001b[38;5;241m*\u001b[39m\u001b[38;5;241m*\u001b[39mkwargs)\n",
            "File \u001b[0;32m/lib/python3.10/site-packages/pandas/util/_decorators.py:311\u001b[0m, in \u001b[0;36mdeprecate_nonkeyword_arguments.<locals>.decorate.<locals>.wrapper\u001b[0;34m(*args, **kwargs)\u001b[0m\n\u001b[1;32m    305\u001b[0m \u001b[38;5;28;01mif\u001b[39;00m \u001b[38;5;28mlen\u001b[39m(args) \u001b[38;5;241m>\u001b[39m num_allow_args:\n\u001b[1;32m    306\u001b[0m     warnings\u001b[38;5;241m.\u001b[39mwarn(\n\u001b[1;32m    307\u001b[0m         msg\u001b[38;5;241m.\u001b[39mformat(arguments\u001b[38;5;241m=\u001b[39marguments),\n\u001b[1;32m    308\u001b[0m         \u001b[38;5;167;01mFutureWarning\u001b[39;00m,\n\u001b[1;32m    309\u001b[0m         stacklevel\u001b[38;5;241m=\u001b[39mstacklevel,\n\u001b[1;32m    310\u001b[0m     )\n\u001b[0;32m--> 311\u001b[0m \u001b[38;5;28;01mreturn\u001b[39;00m func(\u001b[38;5;241m*\u001b[39margs, \u001b[38;5;241m*\u001b[39m\u001b[38;5;241m*\u001b[39mkwargs)\n",
            "File \u001b[0;32m/lib/python3.10/site-packages/pandas/io/json/_json.py:588\u001b[0m, in \u001b[0;36mread_json\u001b[0;34m(path_or_buf, orient, typ, dtype, convert_axes, convert_dates, keep_default_dates, numpy, precise_float, date_unit, encoding, encoding_errors, lines, chunksize, compression, nrows, storage_options)\u001b[0m\n\u001b[1;32m    585\u001b[0m \u001b[38;5;28;01mif\u001b[39;00m convert_axes \u001b[38;5;129;01mis\u001b[39;00m \u001b[38;5;28;01mNone\u001b[39;00m \u001b[38;5;129;01mand\u001b[39;00m orient \u001b[38;5;241m!=\u001b[39m \u001b[38;5;124m\"\u001b[39m\u001b[38;5;124mtable\u001b[39m\u001b[38;5;124m\"\u001b[39m:\n\u001b[1;32m    586\u001b[0m     convert_axes \u001b[38;5;241m=\u001b[39m \u001b[38;5;28;01mTrue\u001b[39;00m\n\u001b[0;32m--> 588\u001b[0m json_reader \u001b[38;5;241m=\u001b[39m \u001b[43mJsonReader\u001b[49m\u001b[43m(\u001b[49m\n\u001b[1;32m    589\u001b[0m \u001b[43m    \u001b[49m\u001b[43mpath_or_buf\u001b[49m\u001b[43m,\u001b[49m\n\u001b[1;32m    590\u001b[0m \u001b[43m    \u001b[49m\u001b[43morient\u001b[49m\u001b[38;5;241;43m=\u001b[39;49m\u001b[43morient\u001b[49m\u001b[43m,\u001b[49m\n\u001b[1;32m    591\u001b[0m \u001b[43m    \u001b[49m\u001b[43mtyp\u001b[49m\u001b[38;5;241;43m=\u001b[39;49m\u001b[43mtyp\u001b[49m\u001b[43m,\u001b[49m\n\u001b[1;32m    592\u001b[0m \u001b[43m    \u001b[49m\u001b[43mdtype\u001b[49m\u001b[38;5;241;43m=\u001b[39;49m\u001b[43mdtype\u001b[49m\u001b[43m,\u001b[49m\n\u001b[1;32m    593\u001b[0m \u001b[43m    \u001b[49m\u001b[43mconvert_axes\u001b[49m\u001b[38;5;241;43m=\u001b[39;49m\u001b[43mconvert_axes\u001b[49m\u001b[43m,\u001b[49m\n\u001b[1;32m    594\u001b[0m \u001b[43m    \u001b[49m\u001b[43mconvert_dates\u001b[49m\u001b[38;5;241;43m=\u001b[39;49m\u001b[43mconvert_dates\u001b[49m\u001b[43m,\u001b[49m\n\u001b[1;32m    595\u001b[0m \u001b[43m    \u001b[49m\u001b[43mkeep_default_dates\u001b[49m\u001b[38;5;241;43m=\u001b[39;49m\u001b[43mkeep_default_dates\u001b[49m\u001b[43m,\u001b[49m\n\u001b[1;32m    596\u001b[0m \u001b[43m    \u001b[49m\u001b[43mnumpy\u001b[49m\u001b[38;5;241;43m=\u001b[39;49m\u001b[43mnumpy\u001b[49m\u001b[43m,\u001b[49m\n\u001b[1;32m    597\u001b[0m \u001b[43m    \u001b[49m\u001b[43mprecise_float\u001b[49m\u001b[38;5;241;43m=\u001b[39;49m\u001b[43mprecise_float\u001b[49m\u001b[43m,\u001b[49m\n\u001b[1;32m    598\u001b[0m \u001b[43m    \u001b[49m\u001b[43mdate_unit\u001b[49m\u001b[38;5;241;43m=\u001b[39;49m\u001b[43mdate_unit\u001b[49m\u001b[43m,\u001b[49m\n\u001b[1;32m    599\u001b[0m \u001b[43m    \u001b[49m\u001b[43mencoding\u001b[49m\u001b[38;5;241;43m=\u001b[39;49m\u001b[43mencoding\u001b[49m\u001b[43m,\u001b[49m\n\u001b[1;32m    600\u001b[0m \u001b[43m    \u001b[49m\u001b[43mlines\u001b[49m\u001b[38;5;241;43m=\u001b[39;49m\u001b[43mlines\u001b[49m\u001b[43m,\u001b[49m\n\u001b[1;32m    601\u001b[0m \u001b[43m    \u001b[49m\u001b[43mchunksize\u001b[49m\u001b[38;5;241;43m=\u001b[39;49m\u001b[43mchunksize\u001b[49m\u001b[43m,\u001b[49m\n\u001b[1;32m    602\u001b[0m \u001b[43m    \u001b[49m\u001b[43mcompression\u001b[49m\u001b[38;5;241;43m=\u001b[39;49m\u001b[43mcompression\u001b[49m\u001b[43m,\u001b[49m\n\u001b[1;32m    603\u001b[0m \u001b[43m    \u001b[49m\u001b[43mnrows\u001b[49m\u001b[38;5;241;43m=\u001b[39;49m\u001b[43mnrows\u001b[49m\u001b[43m,\u001b[49m\n\u001b[1;32m    604\u001b[0m \u001b[43m    \u001b[49m\u001b[43mstorage_options\u001b[49m\u001b[38;5;241;43m=\u001b[39;49m\u001b[43mstorage_options\u001b[49m\u001b[43m,\u001b[49m\n\u001b[1;32m    605\u001b[0m \u001b[43m    \u001b[49m\u001b[43mencoding_errors\u001b[49m\u001b[38;5;241;43m=\u001b[39;49m\u001b[43mencoding_errors\u001b[49m\u001b[43m,\u001b[49m\n\u001b[1;32m    606\u001b[0m \u001b[43m\u001b[49m\u001b[43m)\u001b[49m\n\u001b[1;32m    608\u001b[0m \u001b[38;5;28;01mif\u001b[39;00m chunksize:\n\u001b[1;32m    609\u001b[0m     \u001b[38;5;28;01mreturn\u001b[39;00m json_reader\n",
            "File \u001b[0;32m/lib/python3.10/site-packages/pandas/io/json/_json.py:673\u001b[0m, in \u001b[0;36mJsonReader.__init__\u001b[0;34m(self, filepath_or_buffer, orient, typ, dtype, convert_axes, convert_dates, keep_default_dates, numpy, precise_float, date_unit, encoding, lines, chunksize, compression, nrows, storage_options, encoding_errors)\u001b[0m\n\u001b[1;32m    670\u001b[0m     \u001b[38;5;28;01mif\u001b[39;00m \u001b[38;5;129;01mnot\u001b[39;00m \u001b[38;5;28mself\u001b[39m\u001b[38;5;241m.\u001b[39mlines:\n\u001b[1;32m    671\u001b[0m         \u001b[38;5;28;01mraise\u001b[39;00m \u001b[38;5;167;01mValueError\u001b[39;00m(\u001b[38;5;124m\"\u001b[39m\u001b[38;5;124mnrows can only be passed if lines=True\u001b[39m\u001b[38;5;124m\"\u001b[39m)\n\u001b[0;32m--> 673\u001b[0m data \u001b[38;5;241m=\u001b[39m \u001b[38;5;28;43mself\u001b[39;49m\u001b[38;5;241;43m.\u001b[39;49m\u001b[43m_get_data_from_filepath\u001b[49m\u001b[43m(\u001b[49m\u001b[43mfilepath_or_buffer\u001b[49m\u001b[43m)\u001b[49m\n\u001b[1;32m    674\u001b[0m \u001b[38;5;28mself\u001b[39m\u001b[38;5;241m.\u001b[39mdata \u001b[38;5;241m=\u001b[39m \u001b[38;5;28mself\u001b[39m\u001b[38;5;241m.\u001b[39m_preprocess_data(data)\n",
            "File \u001b[0;32m/lib/python3.10/site-packages/pandas/io/json/_json.py:710\u001b[0m, in \u001b[0;36mJsonReader._get_data_from_filepath\u001b[0;34m(self, filepath_or_buffer)\u001b[0m\n\u001b[1;32m    703\u001b[0m filepath_or_buffer \u001b[38;5;241m=\u001b[39m stringify_path(filepath_or_buffer)\n\u001b[1;32m    704\u001b[0m \u001b[38;5;28;01mif\u001b[39;00m (\n\u001b[1;32m    705\u001b[0m     \u001b[38;5;129;01mnot\u001b[39;00m \u001b[38;5;28misinstance\u001b[39m(filepath_or_buffer, \u001b[38;5;28mstr\u001b[39m)\n\u001b[1;32m    706\u001b[0m     \u001b[38;5;129;01mor\u001b[39;00m is_url(filepath_or_buffer)\n\u001b[1;32m    707\u001b[0m     \u001b[38;5;129;01mor\u001b[39;00m is_fsspec_url(filepath_or_buffer)\n\u001b[1;32m    708\u001b[0m     \u001b[38;5;129;01mor\u001b[39;00m file_exists(filepath_or_buffer)\n\u001b[1;32m    709\u001b[0m ):\n\u001b[0;32m--> 710\u001b[0m     \u001b[38;5;28mself\u001b[39m\u001b[38;5;241m.\u001b[39mhandles \u001b[38;5;241m=\u001b[39m \u001b[43mget_handle\u001b[49m\u001b[43m(\u001b[49m\n\u001b[1;32m    711\u001b[0m \u001b[43m        \u001b[49m\u001b[43mfilepath_or_buffer\u001b[49m\u001b[43m,\u001b[49m\n\u001b[1;32m    712\u001b[0m \u001b[43m        \u001b[49m\u001b[38;5;124;43m\"\u001b[39;49m\u001b[38;5;124;43mr\u001b[39;49m\u001b[38;5;124;43m\"\u001b[39;49m\u001b[43m,\u001b[49m\n\u001b[1;32m    713\u001b[0m \u001b[43m        \u001b[49m\u001b[43mencoding\u001b[49m\u001b[38;5;241;43m=\u001b[39;49m\u001b[38;5;28;43mself\u001b[39;49m\u001b[38;5;241;43m.\u001b[39;49m\u001b[43mencoding\u001b[49m\u001b[43m,\u001b[49m\n\u001b[1;32m    714\u001b[0m \u001b[43m        \u001b[49m\u001b[43mcompression\u001b[49m\u001b[38;5;241;43m=\u001b[39;49m\u001b[38;5;28;43mself\u001b[39;49m\u001b[38;5;241;43m.\u001b[39;49m\u001b[43mcompression\u001b[49m\u001b[43m,\u001b[49m\n\u001b[1;32m    715\u001b[0m \u001b[43m        \u001b[49m\u001b[43mstorage_options\u001b[49m\u001b[38;5;241;43m=\u001b[39;49m\u001b[38;5;28;43mself\u001b[39;49m\u001b[38;5;241;43m.\u001b[39;49m\u001b[43mstorage_options\u001b[49m\u001b[43m,\u001b[49m\n\u001b[1;32m    716\u001b[0m \u001b[43m        \u001b[49m\u001b[43merrors\u001b[49m\u001b[38;5;241;43m=\u001b[39;49m\u001b[38;5;28;43mself\u001b[39;49m\u001b[38;5;241;43m.\u001b[39;49m\u001b[43mencoding_errors\u001b[49m\u001b[43m,\u001b[49m\n\u001b[1;32m    717\u001b[0m \u001b[43m    \u001b[49m\u001b[43m)\u001b[49m\n\u001b[1;32m    718\u001b[0m     filepath_or_buffer \u001b[38;5;241m=\u001b[39m \u001b[38;5;28mself\u001b[39m\u001b[38;5;241m.\u001b[39mhandles\u001b[38;5;241m.\u001b[39mhandle\n\u001b[1;32m    720\u001b[0m \u001b[38;5;28;01mreturn\u001b[39;00m filepath_or_buffer\n",
            "File \u001b[0;32m/lib/python3.10/site-packages/pandas/io/common.py:670\u001b[0m, in \u001b[0;36mget_handle\u001b[0;34m(path_or_buf, mode, encoding, compression, memory_map, is_text, errors, storage_options)\u001b[0m\n\u001b[1;32m    667\u001b[0m     codecs\u001b[38;5;241m.\u001b[39mlookup_error(errors)\n\u001b[1;32m    669\u001b[0m \u001b[38;5;66;03m# open URLs\u001b[39;00m\n\u001b[0;32m--> 670\u001b[0m ioargs \u001b[38;5;241m=\u001b[39m \u001b[43m_get_filepath_or_buffer\u001b[49m\u001b[43m(\u001b[49m\n\u001b[1;32m    671\u001b[0m \u001b[43m    \u001b[49m\u001b[43mpath_or_buf\u001b[49m\u001b[43m,\u001b[49m\n\u001b[1;32m    672\u001b[0m \u001b[43m    \u001b[49m\u001b[43mencoding\u001b[49m\u001b[38;5;241;43m=\u001b[39;49m\u001b[43mencoding\u001b[49m\u001b[43m,\u001b[49m\n\u001b[1;32m    673\u001b[0m \u001b[43m    \u001b[49m\u001b[43mcompression\u001b[49m\u001b[38;5;241;43m=\u001b[39;49m\u001b[43mcompression\u001b[49m\u001b[43m,\u001b[49m\n\u001b[1;32m    674\u001b[0m \u001b[43m    \u001b[49m\u001b[43mmode\u001b[49m\u001b[38;5;241;43m=\u001b[39;49m\u001b[43mmode\u001b[49m\u001b[43m,\u001b[49m\n\u001b[1;32m    675\u001b[0m \u001b[43m    \u001b[49m\u001b[43mstorage_options\u001b[49m\u001b[38;5;241;43m=\u001b[39;49m\u001b[43mstorage_options\u001b[49m\u001b[43m,\u001b[49m\n\u001b[1;32m    676\u001b[0m \u001b[43m\u001b[49m\u001b[43m)\u001b[49m\n\u001b[1;32m    678\u001b[0m handle \u001b[38;5;241m=\u001b[39m ioargs\u001b[38;5;241m.\u001b[39mfilepath_or_buffer\n\u001b[1;32m    679\u001b[0m handles: \u001b[38;5;28mlist\u001b[39m[BaseBuffer]\n",
            "File \u001b[0;32m/lib/python3.10/site-packages/pandas/io/common.py:339\u001b[0m, in \u001b[0;36m_get_filepath_or_buffer\u001b[0;34m(filepath_or_buffer, encoding, compression, mode, storage_options)\u001b[0m\n\u001b[1;32m    337\u001b[0m \u001b[38;5;66;03m# assuming storage_options is to be interpreted as headers\u001b[39;00m\n\u001b[1;32m    338\u001b[0m req_info \u001b[38;5;241m=\u001b[39m urllib\u001b[38;5;241m.\u001b[39mrequest\u001b[38;5;241m.\u001b[39mRequest(filepath_or_buffer, headers\u001b[38;5;241m=\u001b[39mstorage_options)\n\u001b[0;32m--> 339\u001b[0m \u001b[38;5;28;01mwith\u001b[39;00m \u001b[43murlopen\u001b[49m\u001b[43m(\u001b[49m\u001b[43mreq_info\u001b[49m\u001b[43m)\u001b[49m \u001b[38;5;28;01mas\u001b[39;00m req:\n\u001b[1;32m    340\u001b[0m     content_encoding \u001b[38;5;241m=\u001b[39m req\u001b[38;5;241m.\u001b[39mheaders\u001b[38;5;241m.\u001b[39mget(\u001b[38;5;124m\"\u001b[39m\u001b[38;5;124mContent-Encoding\u001b[39m\u001b[38;5;124m\"\u001b[39m, \u001b[38;5;28;01mNone\u001b[39;00m)\n\u001b[1;32m    341\u001b[0m     \u001b[38;5;28;01mif\u001b[39;00m content_encoding \u001b[38;5;241m==\u001b[39m \u001b[38;5;124m\"\u001b[39m\u001b[38;5;124mgzip\u001b[39m\u001b[38;5;124m\"\u001b[39m:\n\u001b[1;32m    342\u001b[0m         \u001b[38;5;66;03m# Override compression based on Content-Encoding header\u001b[39;00m\n",
            "File \u001b[0;32m/lib/python3.10/site-packages/pandas/io/common.py:239\u001b[0m, in \u001b[0;36murlopen\u001b[0;34m(*args, **kwargs)\u001b[0m\n\u001b[1;32m    233\u001b[0m \u001b[38;5;124;03m\"\"\"\u001b[39;00m\n\u001b[1;32m    234\u001b[0m \u001b[38;5;124;03mLazy-import wrapper for stdlib urlopen, as that imports a big chunk of\u001b[39;00m\n\u001b[1;32m    235\u001b[0m \u001b[38;5;124;03mthe stdlib.\u001b[39;00m\n\u001b[1;32m    236\u001b[0m \u001b[38;5;124;03m\"\"\"\u001b[39;00m\n\u001b[1;32m    237\u001b[0m \u001b[38;5;28;01mimport\u001b[39;00m \u001b[38;5;21;01murllib\u001b[39;00m\u001b[38;5;21;01m.\u001b[39;00m\u001b[38;5;21;01mrequest\u001b[39;00m\n\u001b[0;32m--> 239\u001b[0m \u001b[38;5;28;01mreturn\u001b[39;00m urllib\u001b[38;5;241m.\u001b[39mrequest\u001b[38;5;241m.\u001b[39murlopen(\u001b[38;5;241m*\u001b[39margs, \u001b[38;5;241m*\u001b[39m\u001b[38;5;241m*\u001b[39mkwargs)\n",
            "File \u001b[0;32m/lib/python3.10/urllib/request.py:216\u001b[0m, in \u001b[0;36murlopen\u001b[0;34m(url, data, timeout, cafile, capath, cadefault, context)\u001b[0m\n\u001b[1;32m    214\u001b[0m \u001b[38;5;28;01melse\u001b[39;00m:\n\u001b[1;32m    215\u001b[0m     opener \u001b[38;5;241m=\u001b[39m _opener\n\u001b[0;32m--> 216\u001b[0m \u001b[38;5;28;01mreturn\u001b[39;00m \u001b[43mopener\u001b[49m\u001b[38;5;241;43m.\u001b[39;49m\u001b[43mopen\u001b[49m\u001b[43m(\u001b[49m\u001b[43murl\u001b[49m\u001b[43m,\u001b[49m\u001b[43m \u001b[49m\u001b[43mdata\u001b[49m\u001b[43m,\u001b[49m\u001b[43m \u001b[49m\u001b[43mtimeout\u001b[49m\u001b[43m)\u001b[49m\n",
            "File \u001b[0;32m/lib/python3.10/urllib/request.py:519\u001b[0m, in \u001b[0;36mOpenerDirector.open\u001b[0;34m(self, fullurl, data, timeout)\u001b[0m\n\u001b[1;32m    516\u001b[0m     req \u001b[38;5;241m=\u001b[39m meth(req)\n\u001b[1;32m    518\u001b[0m sys\u001b[38;5;241m.\u001b[39maudit(\u001b[38;5;124m'\u001b[39m\u001b[38;5;124murllib.Request\u001b[39m\u001b[38;5;124m'\u001b[39m, req\u001b[38;5;241m.\u001b[39mfull_url, req\u001b[38;5;241m.\u001b[39mdata, req\u001b[38;5;241m.\u001b[39mheaders, req\u001b[38;5;241m.\u001b[39mget_method())\n\u001b[0;32m--> 519\u001b[0m response \u001b[38;5;241m=\u001b[39m \u001b[38;5;28;43mself\u001b[39;49m\u001b[38;5;241;43m.\u001b[39;49m\u001b[43m_open\u001b[49m\u001b[43m(\u001b[49m\u001b[43mreq\u001b[49m\u001b[43m,\u001b[49m\u001b[43m \u001b[49m\u001b[43mdata\u001b[49m\u001b[43m)\u001b[49m\n\u001b[1;32m    521\u001b[0m \u001b[38;5;66;03m# post-process response\u001b[39;00m\n\u001b[1;32m    522\u001b[0m meth_name \u001b[38;5;241m=\u001b[39m protocol\u001b[38;5;241m+\u001b[39m\u001b[38;5;124m\"\u001b[39m\u001b[38;5;124m_response\u001b[39m\u001b[38;5;124m\"\u001b[39m\n",
            "File \u001b[0;32m/lib/python3.10/urllib/request.py:541\u001b[0m, in \u001b[0;36mOpenerDirector._open\u001b[0;34m(self, req, data)\u001b[0m\n\u001b[1;32m    538\u001b[0m \u001b[38;5;28;01mif\u001b[39;00m result:\n\u001b[1;32m    539\u001b[0m     \u001b[38;5;28;01mreturn\u001b[39;00m result\n\u001b[0;32m--> 541\u001b[0m \u001b[38;5;28;01mreturn\u001b[39;00m \u001b[38;5;28;43mself\u001b[39;49m\u001b[38;5;241;43m.\u001b[39;49m\u001b[43m_call_chain\u001b[49m\u001b[43m(\u001b[49m\u001b[38;5;28;43mself\u001b[39;49m\u001b[38;5;241;43m.\u001b[39;49m\u001b[43mhandle_open\u001b[49m\u001b[43m,\u001b[49m\u001b[43m \u001b[49m\u001b[38;5;124;43m'\u001b[39;49m\u001b[38;5;124;43munknown\u001b[39;49m\u001b[38;5;124;43m'\u001b[39;49m\u001b[43m,\u001b[49m\n\u001b[1;32m    542\u001b[0m \u001b[43m                        \u001b[49m\u001b[38;5;124;43m'\u001b[39;49m\u001b[38;5;124;43munknown_open\u001b[39;49m\u001b[38;5;124;43m'\u001b[39;49m\u001b[43m,\u001b[49m\u001b[43m \u001b[49m\u001b[43mreq\u001b[49m\u001b[43m)\u001b[49m\n",
            "File \u001b[0;32m/lib/python3.10/urllib/request.py:496\u001b[0m, in \u001b[0;36mOpenerDirector._call_chain\u001b[0;34m(self, chain, kind, meth_name, *args)\u001b[0m\n\u001b[1;32m    494\u001b[0m \u001b[38;5;28;01mfor\u001b[39;00m handler \u001b[38;5;129;01min\u001b[39;00m handlers:\n\u001b[1;32m    495\u001b[0m     func \u001b[38;5;241m=\u001b[39m \u001b[38;5;28mgetattr\u001b[39m(handler, meth_name)\n\u001b[0;32m--> 496\u001b[0m     result \u001b[38;5;241m=\u001b[39m \u001b[43mfunc\u001b[49m\u001b[43m(\u001b[49m\u001b[38;5;241;43m*\u001b[39;49m\u001b[43margs\u001b[49m\u001b[43m)\u001b[49m\n\u001b[1;32m    497\u001b[0m     \u001b[38;5;28;01mif\u001b[39;00m result \u001b[38;5;129;01mis\u001b[39;00m \u001b[38;5;129;01mnot\u001b[39;00m \u001b[38;5;28;01mNone\u001b[39;00m:\n\u001b[1;32m    498\u001b[0m         \u001b[38;5;28;01mreturn\u001b[39;00m result\n",
            "File \u001b[0;32m/lib/python3.10/urllib/request.py:1419\u001b[0m, in \u001b[0;36mUnknownHandler.unknown_open\u001b[0;34m(self, req)\u001b[0m\n\u001b[1;32m   1417\u001b[0m \u001b[38;5;28;01mdef\u001b[39;00m \u001b[38;5;21munknown_open\u001b[39m(\u001b[38;5;28mself\u001b[39m, req):\n\u001b[1;32m   1418\u001b[0m     \u001b[38;5;28mtype\u001b[39m \u001b[38;5;241m=\u001b[39m req\u001b[38;5;241m.\u001b[39mtype\n\u001b[0;32m-> 1419\u001b[0m     \u001b[38;5;28;01mraise\u001b[39;00m URLError(\u001b[38;5;124m'\u001b[39m\u001b[38;5;124munknown url type: \u001b[39m\u001b[38;5;132;01m%s\u001b[39;00m\u001b[38;5;124m'\u001b[39m \u001b[38;5;241m%\u001b[39m \u001b[38;5;28mtype\u001b[39m)\n",
            "\u001b[0;31mURLError\u001b[0m: <urlopen error unknown url type: https>"
          ],
          "output_type": "error"
        }
      ]
    },
    {
      "cell_type": "code",
      "source": "",
      "metadata": {},
      "execution_count": null,
      "outputs": []
    }
  ]
}